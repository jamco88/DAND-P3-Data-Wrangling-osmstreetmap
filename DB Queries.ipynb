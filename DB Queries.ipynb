{
 "cells": [
  {
   "cell_type": "code",
   "execution_count": 1,
   "metadata": {
    "collapsed": true
   },
   "outputs": [],
   "source": [
    "import sqlite3\n",
    "import csv\n",
    "from pprint import pprint"
   ]
  },
  {
   "cell_type": "code",
   "execution_count": 2,
   "metadata": {
    "collapsed": true
   },
   "outputs": [],
   "source": [
    "sqlite_file = \"C:\\Users\\James2SxyBoogaloo\\Google Drive\\Data\\P3 -  Data Wrangling\\database.db\"\n",
    "#connect to database\n",
    "conn =sqlite3.connect(sqlite_file)"
   ]
  },
  {
   "cell_type": "code",
   "execution_count": 5,
   "metadata": {
    "collapsed": true
   },
   "outputs": [],
   "source": [
    "c = conn.cursor()"
   ]
  },
  {
   "cell_type": "markdown",
   "metadata": {},
   "source": [
    "## Top ten cuisines"
   ]
  },
  {
   "cell_type": "code",
   "execution_count": 6,
   "metadata": {
    "collapsed": false
   },
   "outputs": [
    {
     "name": "stdout",
     "output_type": "stream",
     "text": [
      "[(u'chinese', 70), (u'indian', 66), (u'italian', 49), (u'sandwich', 40), (u'fish_and_chips', 31), (u'pizza', 21), (u'burger', 18), (u'coffee_shop', 18), (u'regional', 16), (u'asian', 10)]\n"
     ]
    }
   ],
   "source": [
    "query = '''\n",
    "SELECT value, count(*) as num \\\n",
    "FROM nodes_tags \\\n",
    "WHERE key ='cuisine' \\\n",
    "GROUP BY value \\\n",
    "ORDER BY num desc \\\n",
    "LIMIT 10;\n",
    "'''\n",
    "\n",
    "def cuisine():\n",
    "    c.execute(query)\n",
    "    results = c.fetchall()\n",
    "    print results\n",
    "\n",
    "cuisine()"
   ]
  },
  {
   "cell_type": "markdown",
   "metadata": {},
   "source": [
    "Chinese narrowly edges out Indian as glasgow's preferred cuisine."
   ]
  },
  {
   "cell_type": "markdown",
   "metadata": {},
   "source": [
    "## Top ten amenities"
   ]
  },
  {
   "cell_type": "code",
   "execution_count": 7,
   "metadata": {
    "collapsed": false
   },
   "outputs": [
    {
     "name": "stdout",
     "output_type": "stream",
     "text": [
      "[(u'bicycle_parking', 556), (u'post_box', 458), (u'fast_food', 307), (u'restaurant', 268), (u'pub', 255), (u'cafe', 229), (u'telephone', 166), (u'atm', 120), (u'bench', 115), (u'recycling', 98)]\n"
     ]
    }
   ],
   "source": [
    "query2 = '''\n",
    "SELECT value, count(*) as num \\\n",
    "FROM nodes_tags \\\n",
    "WHERE key ='amenity' \\\n",
    "GROUP BY value \\\n",
    "ORDER BY num desc \\\n",
    "LIMIT 10;\n",
    "'''\n",
    "\n",
    "def amenity():\n",
    "    c.execute(query2)\n",
    "    results = c.fetchall()\n",
    "    print results\n",
    "\n",
    "amenity()"
   ]
  },
  {
   "cell_type": "markdown",
   "metadata": {},
   "source": [
    "Glasgow benefits from a surfeit of bicycle parking."
   ]
  },
  {
   "cell_type": "markdown",
   "metadata": {},
   "source": [
    "## Top ten shops"
   ]
  },
  {
   "cell_type": "code",
   "execution_count": 26,
   "metadata": {
    "collapsed": false
   },
   "outputs": [
    {
     "name": "stdout",
     "output_type": "stream",
     "text": [
      "[(u'convenience', 231), (u'hairdresser', 119), (u'clothes', 65), (u'supermarket', 65), (u'bookmaker', 54), (u'newsagent', 50), (u'beauty', 40), (u'bakery', 32), (u'yes', 27), (u'butcher', 24)]\n"
     ]
    }
   ],
   "source": [
    "query3 = '''\n",
    "SELECT value, count(*) as num \\\n",
    "FROM nodes_tags \\\n",
    "WHERE key ='shop' \\\n",
    "GROUP BY value \\\n",
    "ORDER BY num desc \\\n",
    "LIMIT 10;\n",
    "'''\n",
    "\n",
    "def shop():\n",
    "    c.execute(query3)\n",
    "    results = c.fetchall()\n",
    "    print results\n",
    "\n",
    "shop()"
   ]
  },
  {
   "cell_type": "markdown",
   "metadata": {
    "collapsed": true
   },
   "source": [
    "As can be seen, the overwhelming majority of shops in glasgow are convenience stores. There is a surprisingly low number of bookmakers - as this is a proxy for deprivation it would be interesting to explore this further, perhaps by areacode. Outside my flat there are 3 bookkeepers within a 60 second walk.\n",
    "\n",
    "Note that 'Yes' is getting returned as a type of shop - given that the existence of the shop key implies that a shop exists, this is a potential further opportunity for data cleaning."
   ]
  },
  {
   "cell_type": "markdown",
   "metadata": {},
   "source": [
    "## Areacodes with the most Bookmakers"
   ]
  },
  {
   "cell_type": "code",
   "execution_count": 27,
   "metadata": {
    "collapsed": false
   },
   "outputs": [
    {
     "name": "stdout",
     "output_type": "stream",
     "text": [
      "[(u'G1', 3), (u'G2', 1), (u'G4', 1)]\n"
     ]
    }
   ],
   "source": [
    "query4 = '''\n",
    "SELECT nodes_tags.value, COUNT(*) as num\n",
    "FROM nodes_tags\n",
    "    JOIN (SELECT DISTINCT(id) FROM nodes_tags WHERE value= 'bookmaker') i \n",
    "    ON nodes_tags.id=i.id\n",
    "WHERE nodes_tags.key = 'Areacode'\n",
    "GROUP BY nodes_tags.value\n",
    "ORDER BY num DESC\n",
    "LIMIT 10;\n",
    "'''\n",
    "\n",
    "def ACB():\n",
    "    c.execute(query4)\n",
    "    results = c.fetchall()\n",
    "    print results\n",
    "\n",
    "ACB()"
   ]
  },
  {
   "cell_type": "markdown",
   "metadata": {},
   "source": [
    "This is less than ideal - our query returns only 5 results.\n",
    "\n",
    "An examination of the CSV indicates that the vast majority of the bookmakers listed in the data do not have an associated postcode: as a result neither do they have an Areacode. - This isn't a cleaning issue however.\n",
    "\n",
    "In the interest of getting a meaningful output lets investigate restaurants - perhaps these will have fully completed postcodes.\n",
    "\n",
    "## Areacodes with the most restaurants\n"
   ]
  },
  {
   "cell_type": "code",
   "execution_count": 28,
   "metadata": {
    "collapsed": false
   },
   "outputs": [
    {
     "name": "stdout",
     "output_type": "stream",
     "text": [
      "[(u'G1', 13), (u'G2', 7), (u'G3', 6), (u'G12', 3), (u'G31', 3), (u'G4', 2), (u'G41', 2), (u'G53', 2), (u'G20', 1), (u'G33', 1)]\n"
     ]
    }
   ],
   "source": [
    "query5 = '''\n",
    "SELECT nodes_tags.value, COUNT(*) as num\n",
    "FROM nodes_tags\n",
    "    JOIN (SELECT DISTINCT(id) FROM nodes_tags WHERE value= 'restaurant') i \n",
    "    ON nodes_tags.id=i.id\n",
    "WHERE nodes_tags.key = 'Areacode'\n",
    "GROUP BY nodes_tags.value\n",
    "ORDER BY num DESC\n",
    "LIMIT 10;\n",
    "'''\n",
    "\n",
    "def AMR():\n",
    "    c.execute(query5)\n",
    "    results = c.fetchall()\n",
    "    print results\n",
    "\n",
    "AMR()"
   ]
  },
  {
   "cell_type": "markdown",
   "metadata": {},
   "source": [
    "Once again we are challenged by the incompleteness of the data. Despite the previous count showing a total of no less than 268 restaurants, our top ten Areacodes only account for a small proportion of this total. However assuming that the likelihood of the restuarant not having an associated postcode (and thus Areacode) is unaffected by location, we can still conclude that G1 has a significant proportion of the total.\n"
   ]
  },
  {
   "cell_type": "code",
   "execution_count": null,
   "metadata": {
    "collapsed": false
   },
   "outputs": [],
   "source": []
  },
  {
   "cell_type": "code",
   "execution_count": null,
   "metadata": {
    "collapsed": true
   },
   "outputs": [],
   "source": []
  }
 ],
 "metadata": {
  "kernelspec": {
   "display_name": "Python 2",
   "language": "python",
   "name": "python2"
  },
  "language_info": {
   "codemirror_mode": {
    "name": "ipython",
    "version": 2
   },
   "file_extension": ".py",
   "mimetype": "text/x-python",
   "name": "python",
   "nbconvert_exporter": "python",
   "pygments_lexer": "ipython2",
   "version": "2.7.13"
  }
 },
 "nbformat": 4,
 "nbformat_minor": 2
}
